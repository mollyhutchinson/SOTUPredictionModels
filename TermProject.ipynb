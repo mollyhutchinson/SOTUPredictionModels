{
 "cells": [
  {
   "cell_type": "markdown",
   "metadata": {},
   "source": [
    "# Term Project Code\n",
    "Frank Wills, Molly Hutchinson\n",
    "\n"
   ]
  },
  {
   "cell_type": "code",
   "execution_count": 1,
   "metadata": {},
   "outputs": [],
   "source": [
    "import pandas as pd\n",
    "import numpy as np\n",
    "import string\n",
    "import matplotlib.pyplot as plt\n",
    "import nltk\n",
    "from nltk.tokenize import word_tokenize \n",
    "from nltk.corpus import stopwords, wordnet\n",
    "from nltk.tokenize import sent_tokenize, word_tokenize\n",
    "from nltk.stem import PorterStemmer, WordNetLemmatizer\n",
    "from sklearn import svm\n",
    "from sklearn.feature_extraction.text import CountVectorizer\n",
    "from sklearn.naive_bayes import MultinomialNB\n",
    "from sklearn.naive_bayes import BernoulliNB\n",
    "from sklearn import preprocessing\n",
    "from sklearn.model_selection import train_test_split\n",
    "from sklearn.metrics import confusion_matrix, ConfusionMatrixDisplay\n",
    "\n",
    "from sklearn.feature_extraction.text import TfidfTransformer\n",
    "from sklearn.neighbors import KNeighborsClassifier\n",
    "from  sklearn.preprocessing import MinMaxScaler\n",
    "from  sklearn.preprocessing import MaxAbsScaler\n",
    "from sklearn.model_selection import train_test_split\n",
    "import sklearn.metrics as metrics\n",
    "\n",
    "from matplotlib.colors import ListedColormap\n",
    "from sklearn import neighbors\n",
    "from sklearn.model_selection import RepeatedKFold\n",
    "from sklearn.model_selection import cross_val_score"
   ]
  },
  {
   "cell_type": "code",
   "execution_count": 2,
   "metadata": {},
   "outputs": [],
   "source": [
    "# read and process text files\n",
    "def process_transcripts(df, attr):\n",
    "    results = []\n",
    "    for row, view in zip(df['transcript'], df[attr]):\n",
    "            temp_df = process(row, view, attr)\n",
    "            results.append(temp_df)\n",
    "\n",
    "    final_df = pd.concat(results, ignore_index = True)\n",
    "    return final_df\n",
    "\n",
    "def process(row, view, attr):\n",
    "    \"\"\"book is the book's text as a string. \n",
    "    'author' is the file name, from which the author is extracted.\n",
    "    processes data and compiles it into a dataframe\n",
    "    \"\"\"\n",
    "    rows = get_rows(row)\n",
    "    df = pd.DataFrame(rows, columns=[\"transcript\"])\n",
    "    df[attr] = view\n",
    "    return df\n",
    "\n",
    "def word_frequency(tokens):\n",
    "    \"\"\"Plot the most common tokens in the text.\n",
    "    The distribution is returned.\"\"\"\n",
    "    dist = nltk.FreqDist(tokens)\n",
    "    dist.plot(25, cumulative=False)\n",
    "    return dist\n",
    "\n",
    "\n",
    "def get_rows(row, chunk_size = 1000):\n",
    "    \"\"\"Chunk book text into rows of 500 tokens using word_tokenize\"\"\"\n",
    "    toks = word_tokenize(row)\n",
    "    toks = list(cleanup(toks))\n",
    "    #word_frequency(toks)\n",
    "    to_pad = chunk_size - len(toks) % chunk_size\n",
    "    toks.extend(['' for i in range(to_pad)])\n",
    "    array = np.array(toks)\n",
    "    array = array.reshape(-1, chunk_size)\n",
    "    return [' '.join(e) for e in array]\n",
    "\n",
    "def cleanup(tokens):\n",
    "    \"\"\"stopwords, punctuation, quotations, and digits are all\n",
    "    removed using this function.\"\"\"\n",
    "    stop = stopwords.words('english')\n",
    "    toremove = string.punctuation + \"—\" + \"♫\"\n",
    "    tab = \"\".maketrans(\"\", \"\", toremove)\n",
    "    tokens = [t.translate(tab) for t in tokens]\n",
    "    return filter(None, remove_tokens(tokens, stop))\n",
    "\n",
    "def remove_tokens(tokens, stopwords):\n",
    "    \"\"\"Takes list of tokens and returns list with stopwords removed.\"\"\"\n",
    "    return [t for t in tokens if t not in stopwords]"
   ]
  },
  {
   "cell_type": "code",
   "execution_count": 3,
   "metadata": {},
   "outputs": [
    {
     "name": "stdout",
     "output_type": "stream",
     "text": [
      "                    file  year   president       party  \\\n",
      "0    Washington_1791.txt  1791  Washington       Other   \n",
      "1    Washington_1792.txt  1792  Washington       Other   \n",
      "2    Washington_1793.txt  1793  Washington       Other   \n",
      "3    Washington_1794.txt  1794  Washington       Other   \n",
      "4    Washington_1795.txt  1795  Washington       Other   \n",
      "..                   ...   ...         ...         ...   \n",
      "222       Obama_2014.txt  2014       Obama    Democrat   \n",
      "223       Obama_2015.txt  2015       Obama    Democrat   \n",
      "224       Obama_2016.txt  2016       Obama    Democrat   \n",
      "225       Trump_2017.txt  2017       Trump  Republican   \n",
      "226       Trump_2018.txt  2018       Trump  Republican   \n",
      "\n",
      "                                            transcript partychar  \n",
      "0    Fellow-Citizens of the Senate and House of Rep...         U  \n",
      "1    Fellow-Citizens of the Senate and House of Rep...         U  \n",
      "2    Fellow-Citizens of the Senate and House of Rep...         U  \n",
      "3    Fellow-Citizens of the Senate and House of Rep...         U  \n",
      "4    Fellow-Citizens of the Senate and House of Rep...         U  \n",
      "..                                                 ...       ...  \n",
      "222  Mr. Speaker, Mr. Vice President, Members of Co...         D  \n",
      "223  Mr. Speaker, Mr. Vice President, Members of Co...         D  \n",
      "224  Mr. Speaker, Mr. Vice President, Members of Co...         D  \n",
      "225  Thank you very much. Mr. Speaker, Mr. Vice Pre...         R  \n",
      "226  Mr. Speaker, Mr. Vice President, Members of Co...         R  \n",
      "\n",
      "[227 rows x 6 columns]\n"
     ]
    }
   ],
   "source": [
    "def parse_sotu(filename):\n",
    "    sotu_path = \"SOTU/\"\n",
    "    f = open(sotu_path+filename)\n",
    "    return f.read()\n",
    "\n",
    "def remap_party(x):\n",
    "    if(x['party']=='R'):\n",
    "        return 'Republican'\n",
    "    elif (x['party']=='D'):\n",
    "        return 'Democrat'\n",
    "    else:\n",
    "        return 'Other'\n",
    "    \n",
    "        \n",
    "# combine file manifest with text input\n",
    "dfmanifest = pd.read_csv('file_manifest.csv')\n",
    "dfmanifest['transcript'] = dfmanifest.apply(lambda x:parse_sotu(x['file']),axis=1)\n",
    "# combine third parties\n",
    "dfmanifest['partychar'] = dfmanifest['party']\n",
    "dfmanifest['party'] = dfmanifest.apply(lambda x:remap_party(x),axis=1)\n",
    "print(dfmanifest)"
   ]
  },
  {
   "cell_type": "code",
   "execution_count": 4,
   "metadata": {},
   "outputs": [],
   "source": [
    "#putting the training and testing up here so that they may be shared by the different models\n",
    "#as opposed to being different for each\n",
    "\n",
    "train, test = train_test_split(dfmanifest, test_size=0.25)\n",
    "dftrain = process_transcripts(train, 'party')\n",
    "dftest = process_transcripts(test, 'party')\n",
    "\n",
    "count_vect = CountVectorizer()\n",
    "X_train_counts = count_vect.fit_transform(dftrain['transcript'])\n",
    "X_test_counts = count_vect.transform(dftest['transcript'])\n",
    "\n",
    "#train, test = train_test_split(dfmanifest, test_size=0.25)\n",
    "dftrain2 = process_transcripts(train, 'partychar')\n",
    "dftest2 = process_transcripts(test, 'partychar')\n",
    "\n",
    "count_vect = CountVectorizer()\n",
    "X_train_counts2 = count_vect.fit_transform(dftrain2['transcript'])\n",
    "X_test_counts2 = count_vect.transform(dftest2['transcript'])"
   ]
  },
  {
   "cell_type": "markdown",
   "metadata": {},
   "source": [
    "# Naive Bayes"
   ]
  },
  {
   "cell_type": "code",
   "execution_count": 5,
   "metadata": {},
   "outputs": [],
   "source": [
    "def test(attr):\n",
    "    \n",
    "#     train, test = train_test_split(dfmanifest, test_size=0.2)\n",
    "#     dftrain = process_transcripts(train, attr)\n",
    "#     dftest = process_transcripts(test, attr)\n",
    "\n",
    "#     count_vect = CountVectorizer()\n",
    "#     X_train_counts = count_vect.fit_transform(dftrain['transcript'])\n",
    "#     X_test_counts = count_vect.transform(dftest['transcript'])\n",
    "\n",
    "    global X_train_counts\n",
    "    global X_test_counts\n",
    "    \n",
    "    \n",
    "    learnerM = MultinomialNB()\n",
    "    learnerB = BernoulliNB()\n",
    "    \n",
    "    clfM = learnerM.fit(X_train_counts, dftrain[attr])\n",
    "    clfB = learnerB.fit(X_train_counts, dftrain[attr])\n",
    "    \n",
    "    #makes predictions\n",
    "    predicted_mult = clfM.predict(X_test_counts)\n",
    "    predicted_ber = clfB.predict(X_test_counts)\n",
    "\n",
    "    #confusion matrix for multinominal\n",
    "    cm = confusion_matrix(dftest[attr], predicted_mult)\n",
    "    disp = ConfusionMatrixDisplay(confusion_matrix=cm, display_labels=clfM.classes_)\n",
    "    #disp.ax_.set_title(\"Multinomial\")\n",
    "    disp.plot(cmap=plt.cm.Blues,values_format='g')\n",
    "    plt.title(\"Multinominal\")\n",
    "    plt.show()\n",
    "    #calculates and prints accuracy for multinominal\n",
    "    print(\"accuracy of multinomial: \", np.mean(predicted_mult == dftest[attr]))\n",
    "    \n",
    "    #confusion matrix for bernoulli\n",
    "    cmb = confusion_matrix(dftest[attr], predicted_ber)\n",
    "    disp2 = ConfusionMatrixDisplay(confusion_matrix=cmb, display_labels=clfB.classes_)\n",
    "    #disp2.ax_.set_title(\"Bernoulli\")\n",
    "    disp2.plot(cmap=plt.cm.Blues,values_format='g')\n",
    "    plt.title(\"Bernoulli\")\n",
    "    plt.show()\n",
    "    #calculates and prints accuracy for bernoulli\n",
    "    print(\"accuracy of bernoulli: \", np.mean(predicted_ber == dftest[attr]))"
   ]
  },
  {
   "cell_type": "code",
   "execution_count": 6,
   "metadata": {},
   "outputs": [
    {
     "data": {
      "image/png": "[encoded data removed]",
      "text/plain": [
       "<Figure size 432x288 with 2 Axes>"
      ]
     },
     "metadata": {
      "needs_background": "light"
     },
     "output_type": "display_data"
    },
    {
     "name": "stdout",
     "output_type": "stream",
     "text": [
      "accuracy of multinomial:  0.6829268292682927\n"
     ]
    },
    {
     "data": {
      "image/png": "[encoded data removed]",
      "text/plain": [
       "<Figure size 432x288 with 2 Axes>"
      ]
     },
     "metadata": {
      "needs_background": "light"
     },
     "output_type": "display_data"
    },
    {
     "name": "stdout",
     "output_type": "stream",
     "text": [
      "accuracy of bernoulli:  0.7386759581881533\n"
     ]
    }
   ],
   "source": [
    "test('party')"
   ]
  },
  {
   "cell_type": "code",
   "execution_count": 7,
   "metadata": {},
   "outputs": [],
   "source": [
    "def test2(attr):\n",
    "    \n",
    "    global X_train_counts2\n",
    "    global X_test_counts2\n",
    "    global dftrain2\n",
    "    global dftest2\n",
    "    \n",
    "    labels = ['D', 'DR', 'F', 'R', 'U', 'W']\n",
    "    \n",
    "    learnerM = MultinomialNB()\n",
    "    learnerB = BernoulliNB()\n",
    "    \n",
    "    clfM = learnerM.fit(X_train_counts2, dftrain2[attr])\n",
    "    clfB = learnerB.fit(X_train_counts2, dftrain2[attr])\n",
    "    \n",
    "    #makes predictions\n",
    "    predicted_mult = clfM.predict(X_test_counts2)\n",
    "    predicted_ber = clfB.predict(X_test_counts2)\n",
    "\n",
    "    #confusion matrix for multinominal\n",
    "    cm = confusion_matrix(dftest2[attr], predicted_mult, labels)\n",
    "    disp = ConfusionMatrixDisplay(confusion_matrix=cm, display_labels=clfM.classes_)\n",
    "    \n",
    "   # print(disp.xticks())\n",
    "    \n",
    "    #disp.ax_.set_title(\"Multinomial\")\n",
    "    disp.plot(cmap=plt.cm.Blues)#,values_format='g')\n",
    "    plt.title(\"Multinominal\")\n",
    "    plt.show()\n",
    "    #calculates and prints accuracy for multinominal\n",
    "    print(\"accuracy of multinomial: \", np.mean(predicted_mult == dftest2[attr]))\n",
    "    \n",
    "    #confusion matrix for bernoulli\n",
    "    cmb = confusion_matrix(dftest2[attr], predicted_ber, labels)\n",
    "    disp2 = ConfusionMatrixDisplay(confusion_matrix=cmb, display_labels=clfB.classes_)\n",
    "    #disp2.ax_.set_title(\"Bernoulli\")\n",
    "    disp2.plot(cmap=plt.cm.Blues)#,values_format='g')\n",
    "    plt.title(\"Bernoulli\")\n",
    "    plt.show()\n",
    "    #calculates and prints accuracy for bernoulli\n",
    "    print(\"accuracy of bernoulli: \", np.mean(predicted_ber == dftest2[attr]))"
   ]
  },
  {
   "cell_type": "code",
   "execution_count": 8,
   "metadata": {},
   "outputs": [
    {
     "name": "stderr",
     "output_type": "stream",
     "text": [
      "C:\\Users\\frank\\anaconda3\\lib\\site-packages\\sklearn\\utils\\validation.py:67: FutureWarning: Pass labels=['D', 'DR', 'F', 'R', 'U', 'W'] as keyword args. From version 0.25 passing these as positional arguments will result in an error\n",
      "  warnings.warn(\"Pass {} as keyword args. From version 0.25 \"\n"
     ]
    },
    {
     "data": {
      "image/png": "[encoded data removed]",
      "text/plain": [
       "<Figure size 432x288 with 2 Axes>"
      ]
     },
     "metadata": {
      "needs_background": "light"
     },
     "output_type": "display_data"
    },
    {
     "name": "stdout",
     "output_type": "stream",
     "text": [
      "accuracy of multinomial:  0.7421602787456446\n"
     ]
    },
    {
     "data": {
      "image/png": "[encoded data removed]",
      "text/plain": [
       "<Figure size 432x288 with 2 Axes>"
      ]
     },
     "metadata": {
      "needs_background": "light"
     },
     "output_type": "display_data"
    },
    {
     "name": "stdout",
     "output_type": "stream",
     "text": [
      "accuracy of bernoulli:  0.7247386759581882\n"
     ]
    }
   ],
   "source": [
    "test2('partychar')"
   ]
  },
  {
   "cell_type": "code",
   "execution_count": 9,
   "metadata": {},
   "outputs": [
    {
     "name": "stdout",
     "output_type": "stream",
     "text": [
      "Adams_1797.txt, 1797, Adams\n",
      "Adams_1798.txt, 1798, Adams\n",
      "Adams_1799.txt, 1799, Adams\n",
      "Adams_1800.txt, 1800, Adams\n",
      "Adams_1825.txt, 1825, Adams\n",
      "Adams_1826.txt, 1826, Adams\n",
      "Adams_1827.txt, 1827, Adams\n",
      "Adams_1828.txt, 1828, Adams\n",
      "Arthur_1881.txt, 1881, Arthur\n",
      "Arthur_1882.txt, 1882, Arthur\n",
      "Arthur_1883.txt, 1883, Arthur\n",
      "Arthur_1884.txt, 1884, Arthur\n",
      "Buchanan_1857.txt, 1857, Buchanan\n",
      "Buchanan_1858.txt, 1858, Buchanan\n",
      "Buchanan_1859.txt, 1859, Buchanan\n",
      "Buchanan_1860.txt, 1860, Buchanan\n",
      "Buren_1837.txt, 1837, Buren\n",
      "Buren_1838.txt, 1838, Buren\n",
      "Buren_1839.txt, 1839, Buren\n",
      "Buren_1840.txt, 1840, Buren\n",
      "Bush_1989.txt, 1989, Bush\n",
      "Bush_1990.txt, 1990, Bush\n",
      "Bush_1991.txt, 1991, Bush\n",
      "Bush_1992.txt, 1992, Bush\n",
      "Bush_2001.txt, 2001, Bush\n",
      "Bush_2002.txt, 2002, Bush\n",
      "Bush_2003.txt, 2003, Bush\n",
      "Bush_2004.txt, 2004, Bush\n",
      "Bush_2005.txt, 2005, Bush\n",
      "Bush_2006.txt, 2006, Bush\n",
      "Bush_2007.txt, 2007, Bush\n",
      "Bush_2008.txt, 2008, Bush\n",
      "Carter_1978.txt, 1978, Carter\n",
      "Carter_1979.txt, 1979, Carter\n",
      "Carter_1980.txt, 1980, Carter\n",
      "Carter_1981.txt, 1981, Carter\n",
      "Cleveland_1885.txt, 1885, Cleveland\n",
      "Cleveland_1886.txt, 1886, Cleveland\n",
      "Cleveland_1887.txt, 1887, Cleveland\n",
      "Cleveland_1888.txt, 1888, Cleveland\n",
      "Cleveland_1893.txt, 1893, Cleveland\n",
      "Cleveland_1894.txt, 1894, Cleveland\n",
      "Cleveland_1895.txt, 1895, Cleveland\n",
      "Cleveland_1896.txt, 1896, Cleveland\n",
      "Clinton_1993.txt, 1993, Clinton\n",
      "Clinton_1994.txt, 1994, Clinton\n",
      "Clinton_1995.txt, 1995, Clinton\n",
      "Clinton_1996.txt, 1996, Clinton\n",
      "Clinton_1997.txt, 1997, Clinton\n",
      "Clinton_1998.txt, 1998, Clinton\n",
      "Clinton_1999.txt, 1999, Clinton\n",
      "Clinton_2000.txt, 2000, Clinton\n",
      "Coolidge_1923.txt, 1923, Coolidge\n",
      "Coolidge_1924.txt, 1924, Coolidge\n",
      "Coolidge_1925.txt, 1925, Coolidge\n",
      "Coolidge_1926.txt, 1926, Coolidge\n",
      "Coolidge_1927.txt, 1927, Coolidge\n",
      "Coolidge_1928.txt, 1928, Coolidge\n",
      "Eisenhower_1954.txt, 1954, Eisenhower\n",
      "Eisenhower_1955.txt, 1955, Eisenhower\n",
      "Eisenhower_1956.txt, 1956, Eisenhower\n",
      "Eisenhower_1957.txt, 1957, Eisenhower\n",
      "Eisenhower_1958.txt, 1958, Eisenhower\n",
      "Eisenhower_1959.txt, 1959, Eisenhower\n",
      "Eisenhower_1960.txt, 1960, Eisenhower\n",
      "Eisenhower_1961.txt, 1961, Eisenhower\n",
      "Fillmore_1850.txt, 1850, Fillmore\n",
      "Fillmore_1851.txt, 1851, Fillmore\n",
      "Fillmore_1852.txt, 1852, Fillmore\n",
      "Ford_1975.txt, 1975, Ford\n",
      "Ford_1976.txt, 1976, Ford\n",
      "Ford_1977.txt, 1977, Ford\n",
      "Grant_1869.txt, 1869, Grant\n",
      "Grant_1870.txt, 1870, Grant\n",
      "Grant_1871.txt, 1871, Grant\n",
      "Grant_1872.txt, 1872, Grant\n",
      "Grant_1873.txt, 1873, Grant\n",
      "Grant_1874.txt, 1874, Grant\n",
      "Grant_1875.txt, 1875, Grant\n",
      "Grant_1876.txt, 1876, Grant\n",
      "Harding_1921.txt, 1921, Harding\n",
      "Harding_1922.txt, 1922, Harding\n",
      "Harrison_1889.txt, 1889, Harrison\n",
      "Harrison_1890.txt, 1890, Harrison\n",
      "Harrison_1891.txt, 1891, Harrison\n",
      "Harrison_1892.txt, 1892, Harrison\n",
      "Hayes_1877.txt, 1877, Hayes\n",
      "Hayes_1878.txt, 1878, Hayes\n",
      "Hayes_1879.txt, 1879, Hayes\n",
      "Hayes_1880.txt, 1880, Hayes\n",
      "Hoover_1929.txt, 1929, Hoover\n",
      "Hoover_1930.txt, 1930, Hoover\n",
      "Hoover_1931.txt, 1931, Hoover\n",
      "Hoover_1932.txt, 1932, Hoover\n",
      "Jackson_1829.txt, 1829, Jackson\n",
      "Jackson_1830.txt, 1830, Jackson\n",
      "Jackson_1831.txt, 1831, Jackson\n",
      "Jackson_1832.txt, 1832, Jackson\n",
      "Jackson_1833.txt, 1833, Jackson\n",
      "Jackson_1834.txt, 1834, Jackson\n",
      "Jackson_1835.txt, 1835, Jackson\n",
      "Jackson_1836.txt, 1836, Jackson\n",
      "Jefferson_1801.txt, 1801, Jefferson\n",
      "Jefferson_1802.txt, 1802, Jefferson\n",
      "Jefferson_1803.txt, 1803, Jefferson\n",
      "Jefferson_1804.txt, 1804, Jefferson\n",
      "Jefferson_1805.txt, 1805, Jefferson\n",
      "Jefferson_1806.txt, 1806, Jefferson\n",
      "Jefferson_1807.txt, 1807, Jefferson\n",
      "Jefferson_1808.txt, 1808, Jefferson\n",
      "Johnson_1865.txt, 1865, Johnson\n",
      "Johnson_1866.txt, 1866, Johnson\n",
      "Johnson_1867.txt, 1867, Johnson\n",
      "Johnson_1868.txt, 1868, Johnson\n",
      "Johnson_1964.txt, 1964, Johnson\n",
      "Johnson_1965.txt, 1965, Johnson\n",
      "Johnson_1966.txt, 1966, Johnson\n",
      "Johnson_1967.txt, 1967, Johnson\n",
      "Johnson_1968.txt, 1968, Johnson\n",
      "Johnson_1969.txt, 1969, Johnson\n",
      "Kennedy_1962.txt, 1962, Kennedy\n",
      "Kennedy_1963.txt, 1963, Kennedy\n",
      "Lincoln_1861.txt, 1861, Lincoln\n",
      "Lincoln_1862.txt, 1862, Lincoln\n",
      "Lincoln_1863.txt, 1863, Lincoln\n",
      "Lincoln_1864.txt, 1864, Lincoln\n",
      "Madison_1809.txt, 1809, Madison\n",
      "Madison_1810.txt, 1810, Madison\n",
      "Madison_1811.txt, 1811, Madison\n",
      "Madison_1812.txt, 1812, Madison\n",
      "Madison_1813.txt, 1813, Madison\n",
      "Madison_1814.txt, 1814, Madison\n",
      "Madison_1815.txt, 1815, Madison\n",
      "Madison_1816.txt, 1816, Madison\n",
      "McKinley_1897.txt, 1897, McKinley\n",
      "McKinley_1898.txt, 1898, McKinley\n",
      "McKinley_1899.txt, 1899, McKinley\n",
      "McKinley_1900.txt, 1900, McKinley\n",
      "Monroe_1817.txt, 1817, Monroe\n",
      "Monroe_1818.txt, 1818, Monroe\n",
      "Monroe_1819.txt, 1819, Monroe\n",
      "Monroe_1820.txt, 1820, Monroe\n",
      "Monroe_1821.txt, 1821, Monroe\n",
      "Monroe_1822.txt, 1822, Monroe\n",
      "Monroe_1823.txt, 1823, Monroe\n",
      "Monroe_1824.txt, 1824, Monroe\n",
      "Nixon_1970.txt, 1970, Nixon\n",
      "Nixon_1971.txt, 1971, Nixon\n",
      "Nixon_1972.txt, 1972, Nixon\n",
      "Nixon_1973.txt, 1973, Nixon\n",
      "Nixon_1974.txt, 1974, Nixon\n",
      "Obama_2009.txt, 2009, Obama\n",
      "Obama_2010.txt, 2010, Obama\n",
      "Obama_2011.txt, 2011, Obama\n",
      "Obama_2012.txt, 2012, Obama\n",
      "Obama_2013.txt, 2013, Obama\n",
      "Obama_2014.txt, 2014, Obama\n",
      "Obama_2015.txt, 2015, Obama\n",
      "Obama_2016.txt, 2016, Obama\n",
      "Pierce_1853.txt, 1853, Pierce\n",
      "Pierce_1854.txt, 1854, Pierce\n",
      "Pierce_1855.txt, 1855, Pierce\n",
      "Pierce_1856.txt, 1856, Pierce\n",
      "Polk_1845.txt, 1845, Polk\n",
      "Polk_1846.txt, 1846, Polk\n",
      "Polk_1847.txt, 1847, Polk\n",
      "Polk_1848.txt, 1848, Polk\n",
      "Reagan_1982.txt, 1982, Reagan\n",
      "Reagan_1983.txt, 1983, Reagan\n",
      "Reagan_1984.txt, 1984, Reagan\n",
      "Reagan_1985.txt, 1985, Reagan\n",
      "Reagan_1986.txt, 1986, Reagan\n",
      "Reagan_1987.txt, 1987, Reagan\n",
      "Reagan_1988.txt, 1988, Reagan\n",
      "Roosevelt_1901.txt, 1901, Roosevelt\n",
      "Roosevelt_1902.txt, 1902, Roosevelt\n",
      "Roosevelt_1903.txt, 1903, Roosevelt\n",
      "Roosevelt_1904.txt, 1904, Roosevelt\n",
      "Roosevelt_1905.txt, 1905, Roosevelt\n",
      "Roosevelt_1906.txt, 1906, Roosevelt\n",
      "Roosevelt_1907.txt, 1907, Roosevelt\n",
      "Roosevelt_1908.txt, 1908, Roosevelt\n",
      "Roosevelt_1934.txt, 1934, Roosevelt\n",
      "Roosevelt_1935.txt, 1935, Roosevelt\n",
      "Roosevelt_1936.txt, 1936, Roosevelt\n",
      "Roosevelt_1937.txt, 1937, Roosevelt\n",
      "Roosevelt_1938.txt, 1938, Roosevelt\n",
      "Roosevelt_1939.txt, 1939, Roosevelt\n",
      "Roosevelt_1940.txt, 1940, Roosevelt\n",
      "Roosevelt_1941.txt, 1941, Roosevelt\n",
      "Roosevelt_1942.txt, 1942, Roosevelt\n",
      "Roosevelt_1943.txt, 1943, Roosevelt\n",
      "Roosevelt_1944.txt, 1944, Roosevelt\n",
      "Roosevelt_1945.txt, 1945, Roosevelt\n",
      "Taft_1909.txt, 1909, Taft\n",
      "Taft_1910.txt, 1910, Taft\n",
      "Taft_1911.txt, 1911, Taft\n",
      "Taft_1912.txt, 1912, Taft\n",
      "Taylor_1849.txt, 1849, Taylor\n",
      "Truman_1946.txt, 1946, Truman\n",
      "Truman_1947.txt, 1947, Truman\n",
      "Truman_1948.txt, 1948, Truman\n",
      "Truman_1949.txt, 1949, Truman\n",
      "Truman_1950.txt, 1950, Truman\n",
      "Truman_1951.txt, 1951, Truman\n",
      "Truman_1952.txt, 1952, Truman\n",
      "Truman_1953.txt, 1953, Truman\n",
      "Trump_2017.txt, 2017, Trump\n",
      "Trump_2018.txt, 2018, Trump\n",
      "Tyler_1841.txt, 1841, Tyler\n",
      "Tyler_1842.txt, 1842, Tyler\n",
      "Tyler_1843.txt, 1843, Tyler\n",
      "Tyler_1844.txt, 1844, Tyler\n",
      "Washington_1790.txt, 1790, Washington\n",
      "Washington_1791.txt, 1791, Washington\n",
      "Washington_1792.txt, 1792, Washington\n",
      "Washington_1793.txt, 1793, Washington\n",
      "Washington_1794.txt, 1794, Washington\n",
      "Washington_1795.txt, 1795, Washington\n",
      "Washington_1796.txt, 1796, Washington\n",
      "Wilson_1913.txt, 1913, Wilson\n",
      "Wilson_1914.txt, 1914, Wilson\n",
      "Wilson_1915.txt, 1915, Wilson\n",
      "Wilson_1916.txt, 1916, Wilson\n",
      "Wilson_1917.txt, 1917, Wilson\n",
      "Wilson_1918.txt, 1918, Wilson\n",
      "Wilson_1919.txt, 1919, Wilson\n",
      "Wilson_1920.txt, 1920, Wilson\n"
     ]
    }
   ],
   "source": [
    "# python directory utility\n",
    "from os import listdir\n",
    "from os.path import isfile, join\n",
    "filenames = [f for f in listdir(\"SOTU/\") if f[-4:]==\".txt\"]\n",
    "for f in filenames:\n",
    "    print(f+\", \"+f[-8:-4]+\", \"+f[:-9])"
   ]
  },
  {
   "cell_type": "markdown",
   "metadata": {},
   "source": [
    "# KNN Code"
   ]
  },
  {
   "cell_type": "code",
   "execution_count": 10,
   "metadata": {},
   "outputs": [],
   "source": [
    "def kneighbortest(attr):\n",
    "\n",
    "    global X_train_counts\n",
    "    global X_test_counts\n",
    "    \n",
    "    #we have to do this so that it works with knn. \n",
    "    #takes count matrix and normalizes to tf-idf reprentation\n",
    "    tfidf_transformer = TfidfTransformer()\n",
    "    X_train_counts = tfidf_transformer.fit_transform(X_train_counts)\n",
    "    X_test_counts = tfidf_transformer.fit_transform(X_test_counts)\n",
    "    \n",
    "#     knn1_neighbors = findneighbors(X_train_counts, dftrain[attr], 'brute')\n",
    "#     print('brute k = ', knn1_neighbors)\n",
    "# #     knn2_neighbors = findneighbors(X_train_counts, dftrain[attr], 'kd_tree')\n",
    "# #     print('kd tree k = ', knn2_neighbors)\n",
    "#     knn3_neighbors = findneighbors(X_train_counts, dftrain[attr], 'ball_tree')\n",
    "#     print('ball tree k = ', knn3_neighbors)\n",
    "        \n",
    "    #fit\n",
    "    knn1 = KNeighborsClassifier(n_neighbors=2, algorithm='brute' )\n",
    "    #knn1 = KNeighborsClassifier()\n",
    "    knn1.fit(X_train_counts, dftrain[attr]) \n",
    "\n",
    "    knn2 = KNeighborsClassifier(n_neighbors=5, algorithm='kd_tree')\n",
    "    knn2.fit(X_train_counts, dftrain[attr]) \n",
    "\n",
    "    knn3 = KNeighborsClassifier(n_neighbors=10, algorithm='ball_tree')\n",
    "    knn3.fit(X_train_counts, dftrain[attr]) \n",
    "\n",
    "    #predict\n",
    "    predictedKnn1 = np.array(knn1.predict(X_test_counts))\n",
    "    predictedKnn2 = np.array(knn2.predict(X_test_counts))\n",
    "    predictedKnn3 = np.array(knn3.predict(X_test_counts))\n",
    "    \n",
    "    #print confusion matrices\n",
    "    cm = confusion_matrix(dftest[attr], predictedKnn1)\n",
    "    disp = ConfusionMatrixDisplay(confusion_matrix=cm, display_labels=knn1.classes_)\n",
    "    disp.plot(cmap=plt.cm.Blues,values_format='g')\n",
    "    plt.title(\"Brute Algorithm\")\n",
    "    plt.show()\n",
    "    \n",
    "    cm = confusion_matrix(dftest[attr], predictedKnn2)\n",
    "    disp = ConfusionMatrixDisplay(confusion_matrix=cm, display_labels=knn2.classes_)\n",
    "    disp.plot(cmap=plt.cm.Blues,values_format='g')\n",
    "    plt.title(\"KD Tree Algorithm\")\n",
    "    plt.show()\n",
    "\n",
    "    \n",
    "    cm = confusion_matrix(dftest[attr], predictedKnn3)\n",
    "    disp = ConfusionMatrixDisplay(confusion_matrix=cm, display_labels=knn3.classes_)\n",
    "    disp.plot(cmap=plt.cm.Blues,values_format='g')\n",
    "    plt.title(\"Ball Tree Algorithm\")\n",
    "    plt.show()\n",
    "\n",
    "    #print accuracies\n",
    "    print(\"accuracy (brute):\", metrics.accuracy_score(predictedKnn1,dftest[attr]))\n",
    "    print(\"accuracy (kd-tree):\",metrics.accuracy_score(predictedKnn2,dftest[attr]))\n",
    "    print(\"accuracy (ball):\",metrics.accuracy_score(predictedKnn3,dftest[attr]))\n"
   ]
  },
  {
   "cell_type": "code",
   "execution_count": 11,
   "metadata": {},
   "outputs": [
    {
     "name": "stderr",
     "output_type": "stream",
     "text": [
      "C:\\Users\\frank\\anaconda3\\lib\\site-packages\\sklearn\\neighbors\\_base.py:415: UserWarning: cannot use tree with sparse input: using brute force\n",
      "  warnings.warn(\"cannot use tree with sparse input: \"\n",
      "C:\\Users\\frank\\anaconda3\\lib\\site-packages\\sklearn\\neighbors\\_base.py:415: UserWarning: cannot use tree with sparse input: using brute force\n",
      "  warnings.warn(\"cannot use tree with sparse input: \"\n"
     ]
    },
    {
     "data": {
      "image/png": "[encoded data removed]",
      "text/plain": [
       "<Figure size 432x288 with 2 Axes>"
      ]
     },
     "metadata": {
      "needs_background": "light"
     },
     "output_type": "display_data"
    },
    {
     "data": {
      "image/png": "[encoded data removed]",
      "text/plain": [
       "<Figure size 432x288 with 2 Axes>"
      ]
     },
     "metadata": {
      "needs_background": "light"
     },
     "output_type": "display_data"
    },
    {
     "data": {
      "image/png": "[encoded data removed]",
      "text/plain": [
       "<Figure size 432x288 with 2 Axes>"
      ]
     },
     "metadata": {
      "needs_background": "light"
     },
     "output_type": "display_data"
    },
    {
     "name": "stdout",
     "output_type": "stream",
     "text": [
      "accuracy (brute): 0.7770034843205574\n",
      "accuracy (kd-tree): 0.8153310104529616\n",
      "accuracy (ball): 0.7700348432055749\n"
     ]
    }
   ],
   "source": [
    "kneighbortest('party')"
   ]
  },
  {
   "cell_type": "code",
   "execution_count": 12,
   "metadata": {},
   "outputs": [],
   "source": [
    "def kneighbortest2(attr):\n",
    "\n",
    "    global X_train_counts2\n",
    "    global X_test_counts2\n",
    "    global dftrain2\n",
    "    global dftest2\n",
    "    \n",
    "    labels = ['D', 'DR', 'F', 'R', 'U', 'W']\n",
    "    \n",
    "    #we have to do this so that it works with knn. \n",
    "    #takes count matrix and normalizes to tf-idf reprentation\n",
    "    tfidf_transformer = TfidfTransformer()\n",
    "    X_train_counts2 = tfidf_transformer.fit_transform(X_train_counts2)\n",
    "    X_test_counts2 = tfidf_transformer.fit_transform(X_test_counts2)\n",
    "        \n",
    "    #fit\n",
    "    knn1 = KNeighborsClassifier(n_neighbors=2, algorithm='brute')\n",
    "    knn1.fit(X_train_counts2, dftrain2[attr]) \n",
    "\n",
    "    knn2 = KNeighborsClassifier(n_neighbors=5, algorithm='kd_tree')\n",
    "    knn2.fit(X_train_counts2, dftrain2[attr]) \n",
    "\n",
    "    knn3 = KNeighborsClassifier(n_neighbors=10, algorithm='ball_tree')\n",
    "    knn3.fit(X_train_counts2, dftrain2[attr]) \n",
    "\n",
    "    #predict\n",
    "    predictedKnn1 = np.array(knn1.predict(X_test_counts2))\n",
    "    predictedKnn2 = np.array(knn2.predict(X_test_counts2))\n",
    "    predictedKnn3 = np.array(knn3.predict(X_test_counts2))\n",
    "    \n",
    "    #print confusion matrices\n",
    "    cm = confusion_matrix(dftest2[attr], predictedKnn1, labels)\n",
    "    disp = ConfusionMatrixDisplay(confusion_matrix=cm, display_labels=knn1.classes_)\n",
    "    disp.plot(cmap=plt.cm.Blues)#,values_format='g')\n",
    "    plt.title(\"Brute Algorithm\")\n",
    "    plt.show()\n",
    "    \n",
    "    cm = confusion_matrix(dftest2[attr], predictedKnn2, labels)\n",
    "    disp = ConfusionMatrixDisplay(confusion_matrix=cm, display_labels=knn2.classes_)\n",
    "    disp.plot(cmap=plt.cm.Blues)#,values_format='g')\n",
    "    plt.title(\"KD Tree Algorithm\")\n",
    "    plt.show()\n",
    "\n",
    "    \n",
    "    cm = confusion_matrix(dftest2[attr], predictedKnn3, labels)\n",
    "    disp = ConfusionMatrixDisplay(confusion_matrix=cm, display_labels=knn3.classes_)\n",
    "    disp.plot(cmap=plt.cm.Blues)#,values_format='g')\n",
    "    plt.title(\"Ball Tree Algorithm\")\n",
    "    plt.show()\n",
    "\n",
    "    #print accuracies\n",
    "    print(\"accuracy (brute):\", metrics.accuracy_score(predictedKnn1,dftest2[attr]))\n",
    "    print(\"accuracy (kd-tree):\",metrics.accuracy_score(predictedKnn2,dftest2[attr]))\n",
    "    print(\"accuracy (ball):\",metrics.accuracy_score(predictedKnn3,dftest2[attr]))"
   ]
  },
  {
   "cell_type": "code",
   "execution_count": 13,
   "metadata": {},
   "outputs": [
    {
     "name": "stderr",
     "output_type": "stream",
     "text": [
      "C:\\Users\\frank\\anaconda3\\lib\\site-packages\\sklearn\\neighbors\\_base.py:415: UserWarning: cannot use tree with sparse input: using brute force\n",
      "  warnings.warn(\"cannot use tree with sparse input: \"\n",
      "C:\\Users\\frank\\anaconda3\\lib\\site-packages\\sklearn\\neighbors\\_base.py:415: UserWarning: cannot use tree with sparse input: using brute force\n",
      "  warnings.warn(\"cannot use tree with sparse input: \"\n",
      "C:\\Users\\frank\\anaconda3\\lib\\site-packages\\sklearn\\utils\\validation.py:67: FutureWarning: Pass labels=['D', 'DR', 'F', 'R', 'U', 'W'] as keyword args. From version 0.25 passing these as positional arguments will result in an error\n",
      "  warnings.warn(\"Pass {} as keyword args. From version 0.25 \"\n"
     ]
    },
    {
     "data": {
      "image/png": "[encoded data removed]",
      "text/plain": [
       "<Figure size 432x288 with 2 Axes>"
      ]
     },
     "metadata": {
      "needs_background": "light"
     },
     "output_type": "display_data"
    },
    {
     "data": {
      "image/png": "[encoded data removed]",
      "text/plain": [
       "<Figure size 432x288 with 2 Axes>"
      ]
     },
     "metadata": {
      "needs_background": "light"
     },
     "output_type": "display_data"
    },
    {
     "data": {
      "image/png": "[encoded data removed]",
      "text/plain": [
       "<Figure size 432x288 with 2 Axes>"
      ]
     },
     "metadata": {
      "needs_background": "light"
     },
     "output_type": "display_data"
    },
    {
     "name": "stdout",
     "output_type": "stream",
     "text": [
      "accuracy (brute): 0.7665505226480837\n",
      "accuracy (kd-tree): 0.7979094076655052\n",
      "accuracy (ball): 0.7526132404181185\n"
     ]
    }
   ],
   "source": [
    "kneighbortest2('partychar')"
   ]
  },
  {
   "cell_type": "code",
   "execution_count": null,
   "metadata": {},
   "outputs": [],
   "source": []
  },
  {
   "cell_type": "code",
   "execution_count": null,
   "metadata": {},
   "outputs": [],
   "source": []
  }
 ],
 "metadata": {
  "kernelspec": {
   "display_name": "Python 3",
   "language": "python",
   "name": "python3"
  },
  "language_info": {
   "codemirror_mode": {
    "name": "ipython",
    "version": 3
   },
   "file_extension": ".py",
   "mimetype": "text/x-python",
   "name": "python",
   "nbconvert_exporter": "python",
   "pygments_lexer": "ipython3",
   "version": "3.8.5"
  }
 },
 "nbformat": 4,
 "nbformat_minor": 4
}
